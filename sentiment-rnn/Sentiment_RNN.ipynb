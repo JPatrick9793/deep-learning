{
 "cells": [
  {
   "cell_type": "markdown",
   "metadata": {},
   "source": [
    "# Sentiment Analysis with an RNN\n",
    "\n",
    "In this notebook, you'll implement a recurrent neural network that performs sentiment analysis. Using an RNN rather than a feedfoward network is more accurate since we can include information about the *sequence* of words. Here we'll use a dataset of movie reviews, accompanied by labels.\n",
    "\n",
    "The architecture for this network is shown below.\n",
    "\n",
    "<img src=\"assets/network_diagram.png\" width=400px>\n",
    "\n",
    "Here, we'll pass in words to an embedding layer. We need an embedding layer because we have tens of thousands of words, so we'll need a more efficient representation for our input data than one-hot encoded vectors. You should have seen this before from the word2vec lesson. You can actually train up an embedding with word2vec and use it here. But it's good enough to just have an embedding layer and let the network learn the embedding table on it's own.\n",
    "\n",
    "From the embedding layer, the new representations will be passed to LSTM cells. These will add recurrent connections to the network so we can include information about the sequence of words in the data. Finally, the LSTM cells will go to a sigmoid output layer here. We're using the sigmoid because we're trying to predict if this text has positive or negative sentiment. The output layer will just be a single unit then, with a sigmoid activation function.\n",
    "\n",
    "We don't care about the sigmoid outputs except for the very last one, we can ignore the rest. We'll calculate the cost from the output of the last step and the training label."
   ]
  },
  {
   "cell_type": "code",
   "execution_count": 1,
   "metadata": {},
   "outputs": [],
   "source": [
    "import numpy as np\n",
    "import tensorflow as tf"
   ]
  },
  {
   "cell_type": "code",
   "execution_count": 2,
   "metadata": {},
   "outputs": [],
   "source": [
    "with open('../sentiment-network/reviews.txt', 'r') as f:\n",
    "    reviews = f.read()\n",
    "with open('../sentiment-network/labels.txt', 'r') as f:\n",
    "    labels = f.read()"
   ]
  },
  {
   "cell_type": "code",
   "execution_count": 3,
   "metadata": {},
   "outputs": [
    {
     "data": {
      "text/plain": [
       "'bromwell high is a cartoon comedy . it ran at the same time as some other programs about school life  such as  teachers  . my   years in the teaching profession lead me to believe that bromwell high  s satire is much closer to reality than is  teachers  . the scramble to survive financially  the insightful students who can see right through their pathetic teachers  pomp  the pettiness of the whole situation  all remind me of the schools i knew and their students . when i saw the episode in which a student repeatedly tried to burn down the school  i immediately recalled . . . . . . . . . at . . . . . . . . . . high . a classic line inspector i  m here to sack one of your teachers . student welcome to bromwell high . i expect that many adults of my age think that bromwell high is far fetched . what a pity that it isn  t   \\nstory of a man who has unnatural feelings for a pig . starts out with a opening scene that is a terrific example of absurd comedy . a formal orchestra audience is turned into an insane  violent mob by the crazy chantings of it  s singers . unfortunately it stays absurd the whole time with no general narrative eventually making it just too off putting . even those from the era should be turned off . the cryptic dialogue would make shakespeare seem easy to a third grader . on a technical level it  s better than you might think with some good cinematography by future great vilmos zsigmond . future stars sally kirkland and frederic forrest can be seen briefly .  \\nhomelessness  or houselessness as george carlin stated  has been an issue for years but never a plan to help those on the street that were once considered human who did everything from going to school  work  or vote for the matter . most people think of the homeless as just a lost cause while worrying about things such as racism  the war on iraq  pressuring kids to succeed  technology  the elections  inflation  or worrying if they  ll be next to end up on the streets .  br    br   but what if y'"
      ]
     },
     "execution_count": 3,
     "metadata": {},
     "output_type": "execute_result"
    }
   ],
   "source": [
    "reviews[:2000]"
   ]
  },
  {
   "cell_type": "markdown",
   "metadata": {},
   "source": [
    "## Data preprocessing\n",
    "\n",
    "The first step when building a neural network model is getting your data into the proper form to feed into the network. Since we're using embedding layers, we'll need to encode each word with an integer. We'll also want to clean it up a bit.\n",
    "\n",
    "You can see an example of the reviews data above. We'll want to get rid of those periods. Also, you might notice that the reviews are delimited with newlines `\\n`. To deal with those, I'm going to split the text into each review using `\\n` as the delimiter. Then I can combined all the reviews back together into one big string.\n",
    "\n",
    "First, let's remove all punctuation. Then get all the text without the newlines and split it into individual words."
   ]
  },
  {
   "cell_type": "code",
   "execution_count": 4,
   "metadata": {},
   "outputs": [],
   "source": [
    "from string import punctuation\n",
    "all_text = ''.join([c for c in reviews if c not in punctuation])\n",
    "reviews = all_text.split('\\n')\n",
    "\n",
    "all_text = ' '.join(reviews)\n",
    "words = all_text.split()"
   ]
  },
  {
   "cell_type": "code",
   "execution_count": 5,
   "metadata": {},
   "outputs": [
    {
     "data": {
      "text/plain": [
       "'bromwell high is a cartoon comedy  it ran at the same time as some other programs about school life  such as  teachers   my   years in the teaching profession lead me to believe that bromwell high  s satire is much closer to reality than is  teachers   the scramble to survive financially  the insightful students who can see right through their pathetic teachers  pomp  the pettiness of the whole situation  all remind me of the schools i knew and their students  when i saw the episode in which a student repeatedly tried to burn down the school  i immediately recalled          at           high  a classic line inspector i  m here to sack one of your teachers  student welcome to bromwell high  i expect that many adults of my age think that bromwell high is far fetched  what a pity that it isn  t    story of a man who has unnatural feelings for a pig  starts out with a opening scene that is a terrific example of absurd comedy  a formal orchestra audience is turned into an insane  violent mob by the crazy chantings of it  s singers  unfortunately it stays absurd the whole time with no general narrative eventually making it just too off putting  even those from the era should be turned off  the cryptic dialogue would make shakespeare seem easy to a third grader  on a technical level it  s better than you might think with some good cinematography by future great vilmos zsigmond  future stars sally kirkland and frederic forrest can be seen briefly    homelessness  or houselessness as george carlin stated  has been an issue for years but never a plan to help those on the street that were once considered human who did everything from going to school  work  or vote for the matter  most people think of the homeless as just a lost cause while worrying about things such as racism  the war on iraq  pressuring kids to succeed  technology  the elections  inflation  or worrying if they  ll be next to end up on the streets   br    br   but what if you were given a bet to live on the st'"
      ]
     },
     "execution_count": 5,
     "metadata": {},
     "output_type": "execute_result"
    }
   ],
   "source": [
    "all_text[:2000]"
   ]
  },
  {
   "cell_type": "code",
   "execution_count": 6,
   "metadata": {},
   "outputs": [
    {
     "data": {
      "text/plain": [
       "['bromwell',\n",
       " 'high',\n",
       " 'is',\n",
       " 'a',\n",
       " 'cartoon',\n",
       " 'comedy',\n",
       " 'it',\n",
       " 'ran',\n",
       " 'at',\n",
       " 'the',\n",
       " 'same',\n",
       " 'time',\n",
       " 'as',\n",
       " 'some',\n",
       " 'other',\n",
       " 'programs',\n",
       " 'about',\n",
       " 'school',\n",
       " 'life',\n",
       " 'such',\n",
       " 'as',\n",
       " 'teachers',\n",
       " 'my',\n",
       " 'years',\n",
       " 'in',\n",
       " 'the',\n",
       " 'teaching',\n",
       " 'profession',\n",
       " 'lead',\n",
       " 'me',\n",
       " 'to',\n",
       " 'believe',\n",
       " 'that',\n",
       " 'bromwell',\n",
       " 'high',\n",
       " 's',\n",
       " 'satire',\n",
       " 'is',\n",
       " 'much',\n",
       " 'closer',\n",
       " 'to',\n",
       " 'reality',\n",
       " 'than',\n",
       " 'is',\n",
       " 'teachers',\n",
       " 'the',\n",
       " 'scramble',\n",
       " 'to',\n",
       " 'survive',\n",
       " 'financially',\n",
       " 'the',\n",
       " 'insightful',\n",
       " 'students',\n",
       " 'who',\n",
       " 'can',\n",
       " 'see',\n",
       " 'right',\n",
       " 'through',\n",
       " 'their',\n",
       " 'pathetic',\n",
       " 'teachers',\n",
       " 'pomp',\n",
       " 'the',\n",
       " 'pettiness',\n",
       " 'of',\n",
       " 'the',\n",
       " 'whole',\n",
       " 'situation',\n",
       " 'all',\n",
       " 'remind',\n",
       " 'me',\n",
       " 'of',\n",
       " 'the',\n",
       " 'schools',\n",
       " 'i',\n",
       " 'knew',\n",
       " 'and',\n",
       " 'their',\n",
       " 'students',\n",
       " 'when',\n",
       " 'i',\n",
       " 'saw',\n",
       " 'the',\n",
       " 'episode',\n",
       " 'in',\n",
       " 'which',\n",
       " 'a',\n",
       " 'student',\n",
       " 'repeatedly',\n",
       " 'tried',\n",
       " 'to',\n",
       " 'burn',\n",
       " 'down',\n",
       " 'the',\n",
       " 'school',\n",
       " 'i',\n",
       " 'immediately',\n",
       " 'recalled',\n",
       " 'at',\n",
       " 'high']"
      ]
     },
     "execution_count": 6,
     "metadata": {},
     "output_type": "execute_result"
    }
   ],
   "source": [
    "words[:100]"
   ]
  },
  {
   "cell_type": "markdown",
   "metadata": {},
   "source": [
    "### Encoding the words\n",
    "\n",
    "The embedding lookup requires that we pass in integers to our network. The easiest way to do this is to create dictionaries that map the words in the vocabulary to integers. Then we can convert each of our reviews into integers so they can be passed into the network.\n",
    "\n",
    "> **Exercise:** Now you're going to encode the words with integers. Build a dictionary that maps words to integers. Later we're going to pad our input vectors with zeros, so make sure the integers **start at 1, not 0**.\n",
    "> Also, convert the reviews to integers and store the reviews in a new list called `reviews_ints`. "
   ]
  },
  {
   "cell_type": "code",
   "execution_count": 7,
   "metadata": {},
   "outputs": [
    {
     "name": "stdout",
     "output_type": "stream",
     "text": [
      "bromwell 28649\n",
      "high 21771\n",
      "is 31907\n",
      "a 33283\n",
      "cartoon 8045\n",
      "comedy 12534\n",
      "it 28927\n",
      "ran 66412\n",
      "at 23718\n",
      "the 20915\n",
      "bromwell high is a cartoon comedy  it ran at the same time as some other programs about school life  such as  teachers   my   years in the teaching profession lead me to believe that bromwell high  s satire is much closer to reality than is  teachers   the scramble to survive financially  the insightful students who can see right through their pathetic teachers  pomp  the pettiness of the whole situation  all remind me of the schools i knew and their students  when i saw the episode in which a student repeatedly tried to burn down the school  i immediately recalled          at           high  a classic line inspector i  m here to sack one of your teachers  student welcome to bromwell high  i expect that many adults of my age think that bromwell high is far fetched  what a pity that it isn  t   \n",
      "[28649, 21771, 31907, 33283, 8045, 12534, 28927, 66412, 23718, 20915, 42355, 41312, 45277, 64642, 29526, 12564, 55623, 56834, 66817, 52792, 45277, 15379, 17064, 42920, 38306, 20915, 15809, 51406, 6525, 181, 59657, 27930, 40905, 28649, 21771, 28278, 56819, 31907, 52903, 9820, 59657, 52897, 48832, 31907, 15379, 20915, 26886, 59657, 37338, 41698, 20915, 9064, 39862, 10885, 26969, 67094, 1199, 6235, 18302, 70651, 15379, 66357, 20915, 48056, 34065, 20915, 28184, 657, 42569, 66881, 181, 34065, 20915, 56289, 30876, 62036, 55931, 18302, 39862, 42832, 30876, 24455, 20915, 68394, 38306, 6082, 33283, 39648, 39315, 10071, 59657, 58404, 21881, 20915, 56834, 30876, 43144, 72795, 23718, 21771, 33283, 60345, 68677, 29004, 30876, 67156, 66237, 59657, 64620, 18779, 34065, 11109, 15379, 39648, 7406, 59657, 28649, 21771, 30876, 26320, 40905, 51385, 53369, 34065, 17064, 34240, 39744, 40905, 28649, 21771, 31907, 14216, 18532, 51821, 33283, 34530, 40905, 28927, 12964, 64894]\n"
     ]
    }
   ],
   "source": [
    "# Create your dictionary that maps vocab words to integers here\n",
    "# create set of word list to remove duplicates\n",
    "test_set = set(words)\n",
    "# create dict by enumerating test_set\n",
    "vocab_to_int = {word: counter for counter, word in enumerate(test_set, 1)}\n",
    "\n",
    "# print first 10 pairs to test to make sure it worked\n",
    "for i in words[:10]:\n",
    "    print (i, vocab_to_int[i])\n",
    "    \n",
    "# Convert the reviews to integers, same shape as reviews list, but with integers\n",
    "reviews_ints = []\n",
    "for each in reviews:\n",
    "    reviews_ints.append([vocab_to_int[word] for word in each.split()])\n",
    "    \n",
    "# print side by side comparison    \n",
    "print (reviews[0])\n",
    "print (reviews_ints[0])"
   ]
  },
  {
   "cell_type": "markdown",
   "metadata": {},
   "source": [
    "### Encoding the labels\n",
    "\n",
    "Our labels are \"positive\" or \"negative\". To use these labels in our network, we need to convert them to 0 and 1.\n",
    "\n",
    "> **Exercise:** Convert labels from `positive` and `negative` to 1 and 0, respectively."
   ]
  },
  {
   "cell_type": "code",
   "execution_count": 8,
   "metadata": {},
   "outputs": [
    {
     "name": "stdout",
     "output_type": "stream",
     "text": [
      "[1, 0, 1, 0, 1]\n"
     ]
    }
   ],
   "source": [
    "# Convert labels to 1s and 0s for 'positive' and 'negative'\n",
    "# labels[:50]\n",
    "# labels_split = [label for label in labels.split('\\n')]\n",
    "# print (labels_split[:5])\n",
    "labels_converted = [1 if label == 'positive' else 0 for label in labels.split('\\n')]\n",
    "print (labels_converted[:5])\n",
    "labels = labels_converted"
   ]
  },
  {
   "cell_type": "markdown",
   "metadata": {},
   "source": [
    "If you built `labels` correctly, you should see the next output."
   ]
  },
  {
   "cell_type": "code",
   "execution_count": 9,
   "metadata": {},
   "outputs": [
    {
     "name": "stdout",
     "output_type": "stream",
     "text": [
      "Zero-length reviews: 1\n",
      "Maximum review length: 2514\n"
     ]
    }
   ],
   "source": [
    "from collections import Counter\n",
    "review_lens = Counter([len(x) for x in reviews_ints])\n",
    "print(\"Zero-length reviews: {}\".format(review_lens[0]))\n",
    "print(\"Maximum review length: {}\".format(max(review_lens)))"
   ]
  },
  {
   "cell_type": "markdown",
   "metadata": {},
   "source": [
    "Okay, a couple issues here. We seem to have one review with zero length. And, the maximum review length is way too many steps for our RNN. Let's truncate to 200 steps. For reviews shorter than 200, we'll pad with 0s. For reviews longer than 200, we can truncate them to the first 200 characters.\n",
    "\n",
    "> **Exercise:** First, remove the review with zero length from the `reviews_ints` list."
   ]
  },
  {
   "cell_type": "code",
   "execution_count": 10,
   "metadata": {},
   "outputs": [
    {
     "name": "stdout",
     "output_type": "stream",
     "text": [
      "non_zero_indexes length:  25000\n",
      "First 10 indices:  [0, 1, 2, 3, 4, 5, 6, 7, 8, 9]\n"
     ]
    }
   ],
   "source": [
    "# Filter out the index with review length = 0\n",
    "non_zero_indexes = [i for i, review in enumerate(reviews_ints) if len(review) > 0]\n",
    "print (\"non_zero_indexes length: \", len(non_zero_indexes))\n",
    "print (\"First 10 indices: \", non_zero_indexes[:10])"
   ]
  },
  {
   "cell_type": "code",
   "execution_count": 11,
   "metadata": {},
   "outputs": [],
   "source": [
    "# Filter reviews and labels using non_zero_indexes\n",
    "reviews_ints = [reviews_ints[i] for i in non_zero_indexes]\n",
    "labels = np.array([labels[i] for i in non_zero_indexes])"
   ]
  },
  {
   "cell_type": "code",
   "execution_count": 12,
   "metadata": {},
   "outputs": [
    {
     "name": "stdout",
     "output_type": "stream",
     "text": [
      "25000\n",
      "25000\n"
     ]
    }
   ],
   "source": [
    "# test data lengths\n",
    "print (len(reviews_ints))\n",
    "print (len(labels))"
   ]
  },
  {
   "cell_type": "markdown",
   "metadata": {},
   "source": [
    "> **Exercise:** Now, create an array `features` that contains the data we'll pass to the network. The data should come from `review_ints`, since we want to feed integers to the network. Each row should be 200 elements long. For reviews shorter than 200 words, left pad with 0s. That is, if the review is `['best', 'movie', 'ever']`, `[117, 18, 128]` as integers, the row will look like `[0, 0, 0, ..., 0, 117, 18, 128]`. For reviews longer than 200, use on the first 200 words as the feature vector.\n",
    "\n",
    "This isn't trivial and there are a bunch of ways to do this. But, if you're going to be building your own deep learning networks, you're going to have to get used to preparing your data.\n",
    "\n"
   ]
  },
  {
   "cell_type": "code",
   "execution_count": 13,
   "metadata": {},
   "outputs": [],
   "source": [
    "seq_len = 200\n",
    "'''\n",
    "def build_feature(seq_len, feature):\n",
    "    if len(feature) < seq_len:\n",
    "        zeros = seq_len - len(feature)\n",
    "        feature_processed = [0 for i in range(zeros)]\n",
    "        feature_processed.extend(feature)\n",
    "    else:\n",
    "        feature_processed = feature[:200]\n",
    "    \n",
    "    return feature_processed\n",
    "\n",
    "\n",
    "print (build_feature(seq_len, reviews_ints[0]))\n",
    "\n",
    "features = np.zeros((len(reviews_ints), seq_len), dtype=int) \n",
    "for i, review in enumerate(reviews_ints):\n",
    "    features[i] = build_feature(seq_len, review)\n",
    "'''\n",
    "\n",
    "features = np.zeros((len(reviews_ints), seq_len), dtype=int)\n",
    "for i, row in enumerate(reviews_ints):\n",
    "    features[i, -len(row):] = np.array(row)[:seq_len]"
   ]
  },
  {
   "cell_type": "markdown",
   "metadata": {},
   "source": [
    "If you build features correctly, it should look like that cell output below."
   ]
  },
  {
   "cell_type": "code",
   "execution_count": 14,
   "metadata": {},
   "outputs": [
    {
     "data": {
      "text/plain": [
       "array([[    0,     0,     0,     0,     0,     0,     0,     0,     0,\n",
       "            0,     0,     0,     0,     0,     0,     0,     0,     0,\n",
       "            0,     0,     0,     0,     0,     0,     0,     0,     0,\n",
       "            0,     0,     0,     0,     0,     0,     0,     0,     0,\n",
       "            0,     0,     0,     0,     0,     0,     0,     0,     0,\n",
       "            0,     0,     0,     0,     0,     0,     0,     0,     0,\n",
       "            0,     0,     0,     0,     0,     0, 28649, 21771, 31907,\n",
       "        33283,  8045, 12534, 28927, 66412, 23718, 20915, 42355, 41312,\n",
       "        45277, 64642, 29526, 12564, 55623, 56834, 66817, 52792, 45277,\n",
       "        15379, 17064, 42920, 38306, 20915, 15809, 51406,  6525,   181,\n",
       "        59657, 27930, 40905, 28649, 21771, 28278, 56819, 31907, 52903,\n",
       "         9820],\n",
       "       [    0,     0,     0,     0,     0,     0,     0,     0,     0,\n",
       "            0,     0,     0,     0,     0,     0,     0,     0,     0,\n",
       "            0,     0,     0,     0,     0,     0,     0,     0,     0,\n",
       "            0,     0,     0,     0,     0,     0,     0,     0,     0,\n",
       "            0,     0,     0,     0,     0,     0,     0,     0,     0,\n",
       "            0,     0,     0,     0,     0,     0,     0,     0,     0,\n",
       "            0,     0,     0,     0,     0,     0,     0,     0,     0,\n",
       "            0,     0,     0,     0,     0,     0,     0,     0,     0,\n",
       "            0,     0,     0,     0,     0,     0,     0,     0,     0,\n",
       "            0,     0,     0,     0,     0, 36442, 34065, 33283, 62512,\n",
       "        10885, 70157, 14074, 53122, 16503, 33283, 35872,  1249, 61700,\n",
       "        13314],\n",
       "       [20516, 39870, 19323, 45277, 18758, 22346, 53094, 70157, 21524,\n",
       "        40672, 14158, 16503, 42920,  1920,  2496, 33283, 23273, 59657,\n",
       "        71243, 28309, 27767, 20915, 18388, 40905, 29241, 27898, 10249,\n",
       "        47863, 10885,  9144, 37651, 29448, 68603, 59657, 56834,  1829,\n",
       "        39870, 11025, 16503, 20915, 69768, 63514, 26461, 39744, 34065,\n",
       "        20915, 62994, 45277, 33678, 33283, 73880,  3479, 23938, 65936,\n",
       "        55623, 31075, 52792, 45277, 58879, 20915, 69609, 27767, 51262,\n",
       "        17449, 70799, 59657, 55707, 51143, 20915, 33750,   884, 39870,\n",
       "        65936, 39548,  8711, 47263,  3327,  3094, 59657,  1900, 11290,\n",
       "        27767, 20915, 52253, 70290, 70290,  1920, 51821, 39548,  3079,\n",
       "        29241, 14957, 33283, 35840, 59657, 53745, 27767, 20915, 52253,\n",
       "        16503],\n",
       "       [14616,  1249, 45277, 33283,  7813,   844, 73571, 37163, 31907,\n",
       "        30594, 11290, 13314, 56285, 30595, 52792, 46480, 59657, 52375,\n",
       "        63591, 13035, 19784, 50886, 25837, 10885, 31907, 57590, 39355,\n",
       "        33283, 28897, 34065, 64649, 28278, 59657, 27554, 34189, 38306,\n",
       "        32549, 34065, 28927,  2946, 29383, 59657, 20915, 54468, 45277,\n",
       "        33283, 37312, 72389, 27767, 12934, 31907, 19784, 50127, 67095,\n",
       "        70104, 27941,  1305, 36503, 20915, 73571,   578, 29422, 52580,\n",
       "        45277, 32172,  1920, 35182, 55431, 20915, 37163, 31907, 56789,\n",
       "        63730, 54467, 20915,  9605, 18921,  9589, 33632, 11627, 27554,\n",
       "        36926, 51325, 28278,  9838, 59543, 23649, 69468,  3816, 23455,\n",
       "        10885, 29325, 20915, 11662, 21248, 61700, 13314, 59386,  4982,\n",
       "         8711],\n",
       "       [    0,     0,     0,     0,     0,     0,     0,     0,     0,\n",
       "            0,     0,     0,     0,     0,     0,     0,     0,     0,\n",
       "            0,     0,     0,     0,     0,     0,     0,     0,     0,\n",
       "            0,     0,     0,     0,     0,     0,     0,     0,     0,\n",
       "            0,     0,     0,     0,     0,     0,     0,     0,     0,\n",
       "            0,     0,     0,     0,     0, 28022, 12644, 50982, 54467,\n",
       "        19027,   210, 14866, 56660, 67416, 59678, 40056, 30876, 73711,\n",
       "        72526, 65600, 55931, 11721,  2255, 38306, 73830, 72122, 42072,\n",
       "        43499, 59657, 71185, 20915, 33643, 27767, 65188, 31907, 33283,\n",
       "        60345, 45277, 41259, 45277,  5325, 38306, 25522, 11561, 20915,\n",
       "         7244, 27767, 69657, 31907, 72389, 50920, 71137,  2946, 66026,\n",
       "        34065],\n",
       "       [    0,     0,     0,     0,     0,     0,     0,     0,     0,\n",
       "            0,     0,     0,     0,     0,     0,     0,     0,     0,\n",
       "            0,     0,     0,     0,     0,     0,     0,     0,     0,\n",
       "            0,     0,     0,     0,     0,     0,     0,     0,     0,\n",
       "            0,     0,     0,     0,     0,     0,     0,     0,     0,\n",
       "            0,     0,     0,     0,     0,     0,     0,     0,     0,\n",
       "        21147, 47727,  6273, 73648, 30876, 14239, 64894, 16430, 17064,\n",
       "        59074, 27767, 23718, 44024, 27639, 27767, 20915, 20265, 34065,\n",
       "        20915, 39287, 30264, 21147, 21097, 30552, 59657, 32743, 34065,\n",
       "        14445, 42832, 53743, 37256, 20915,  7565, 13314,  1305, 39287,\n",
       "        62512, 27789, 20915, 70423,  2255, 51324, 62544, 45277,  2946,\n",
       "         2725],\n",
       "       [    0,     0,     0,     0,     0,     0,     0,     0,     0,\n",
       "            0,     0,     0,     0,     0,     0,     0,     0,     0,\n",
       "            0,     0,     0,     0,     0,     0,     0,     0,     0,\n",
       "            0,     0,     0,     0,     0,     0,     0,     0,     0,\n",
       "            0,     0,     0,     0,     0,     0,     0,     0,     0,\n",
       "            0,     0,     0,     0,     0,     0,     0,     0,     0,\n",
       "            0,     0,     0,     0,     0,     0,     0,     0,     0,\n",
       "            0,     0,     0,     0,     0,     0,     0,     0,     0,\n",
       "            0,     0,     0,     0, 21147, 31907, 53500, 20915, 63514,\n",
       "          872, 47727, 23824, 20915, 24251, 55485, 12214, 24945, 19220,\n",
       "        28927, 58130, 53322,  9089, 33283, 25307,  1167, 34065, 20516,\n",
       "        63198],\n",
       "       [    0,     0,     0,     0,     0,     0,     0,     0,     0,\n",
       "            0,     0,     0,     0,     0,     0,     0,     0,     0,\n",
       "            0,     0,     0,     0,     0,     0,     0,     0,     0,\n",
       "            0,     0,     0,     0,     0,     0,     0,     0,     0,\n",
       "            0,     0,     0,     0,     0,     0,     0,     0,     0,\n",
       "            0,     0, 28336,  8494, 30876, 25326, 21147, 31907, 20527,\n",
       "        59657,  3327, 40672, 73456, 47727,  1920,  7831,  8711, 64682,\n",
       "        73711, 10251, 61700, 46098, 23718, 20915, 56885, 58230, 26461,\n",
       "        57916, 65888, 18302, 15852, 61700, 55931, 53322, 17695, 66098,\n",
       "        20915, 15255, 32786, 55931, 60268, 71779,  2863, 53151, 21147,\n",
       "        36442, 31907, 55379, 43793, 59657, 17695, 20915, 30151, 34065,\n",
       "        33283],\n",
       "       [    0,     0,     0,     0,     0,     0,     0,     0,     0,\n",
       "            0,     0,     0,     0,     0,     0,     0,     0,     0,\n",
       "            0,     0,     0,     0,     0,     0,     0,     0,     0,\n",
       "            0,     0,     0,     0,     0,     0,     0,     0,     0,\n",
       "            0,     0,     0,     0,     0,     0,     0,     0,     0,\n",
       "            0,     0,     0,     0,     0,     0,     0,     0,     0,\n",
       "            0,     0,     0,     0,     0,     0,     0,     0,     0,\n",
       "            0,     0,     0,     0,     0,     0,     0,     0,     0,\n",
       "            0,     0,     0,     0,     0,     0,     0, 21147, 31907,\n",
       "        53322, 20915, 25245, 34950, 24251, 47727, 28927,  2863, 52903,\n",
       "        58598, 71220, 48832, 63514, 34065, 27554,  4550, 55931, 36054,\n",
       "        14299],\n",
       "       [42832, 30876,  2863, 14929, 17064, 38297, 66167,   181, 28055,\n",
       "        59657, 20915, 69991, 59657, 67094, 25274, 28927,  2863, 18779,\n",
       "        34065, 51385,  4550, 30876, 65497, 13314, 17064, 38297,  1920,\n",
       "        21147,  2863, 20915, 43210, 18779, 30370, 24554, 61700, 34065,\n",
       "        17861, 25155, 30876, 14299,  2496, 65600, 25274, 54503, 33678,\n",
       "        20973, 55931, 30876, 57916, 73711, 61150, 61700, 20915, 48599,\n",
       "        34065, 17064, 66817, 29442, 28927, 51821, 33283, 71299, 20512,\n",
       "        55931, 69435, 36690, 13923, 34065, 28278, 15304, 55931, 59276,\n",
       "        54116, 30224, 73322, 31907, 18779, 34065, 17064, 58158, 10605,\n",
       "         1920, 25274, 31907, 54467, 14216, 20915,  5614, 13923, 34065,\n",
       "        47488, 34065, 27554, 37495, 38306, 20915, 53244, 19191, 34065,\n",
       "        19390]])"
      ]
     },
     "execution_count": 14,
     "metadata": {},
     "output_type": "execute_result"
    }
   ],
   "source": [
    "features[:10,:100]"
   ]
  },
  {
   "cell_type": "markdown",
   "metadata": {},
   "source": [
    "## Training, Validation, Test\n",
    "\n"
   ]
  },
  {
   "cell_type": "markdown",
   "metadata": {},
   "source": [
    "With our data in nice shape, we'll split it into training, validation, and test sets.\n",
    "\n",
    "> **Exercise:** Create the training, validation, and test sets here. You'll need to create sets for the features and the labels, `train_x` and `train_y` for example. Define a split fraction, `split_frac` as the fraction of data to keep in the training set. Usually this is set to 0.8 or 0.9. The rest of the data will be split in half to create the validation and testing data."
   ]
  },
  {
   "cell_type": "code",
   "execution_count": 15,
   "metadata": {},
   "outputs": [
    {
     "name": "stdout",
     "output_type": "stream",
     "text": [
      "\t\t\tFeature Shapes:\n",
      "Train set: \t\t(20000, 200) \n",
      "Validation set: \t(2500, 200) \n",
      "Test set: \t\t(2500, 200)\n"
     ]
    }
   ],
   "source": [
    "from sklearn.model_selection import train_test_split\n",
    "\n",
    "split_frac = 0.8\n",
    "\n",
    "train_x, x_split, train_y, y_split = train_test_split(features, labels, test_size=1-split_frac)\n",
    "val_x, test_x, val_y, test_y = train_test_split(x_split, y_split, test_size=0.5)\n",
    "'''\n",
    "split_idx = int(len(features)*0.8)\n",
    "train_x, val_x = features[:split_idx], features[split_idx:]\n",
    "train_y, val_y = labels[:split_idx], labels[split_idx:]\n",
    "\n",
    "test_idx = int(len(val_x)*0.5)\n",
    "val_x, test_x = val_x[:test_idx], val_x[test_idx:]\n",
    "val_y, test_y = val_y[:test_idx], val_y[test_idx:]\n",
    "'''\n",
    "print(\"\\t\\t\\tFeature Shapes:\")\n",
    "print(\"Train set: \\t\\t{}\".format(train_x.shape), \n",
    "      \"\\nValidation set: \\t{}\".format(val_x.shape),\n",
    "      \"\\nTest set: \\t\\t{}\".format(test_x.shape))"
   ]
  },
  {
   "cell_type": "markdown",
   "metadata": {},
   "source": [
    "With train, validation, and text fractions of 0.8, 0.1, 0.1, the final shapes should look like:\n",
    "```\n",
    "                    Feature Shapes:\n",
    "Train set: \t\t (20000, 200) \n",
    "Validation set: \t(2500, 200) \n",
    "Test set: \t\t  (2500, 200)\n",
    "```"
   ]
  },
  {
   "cell_type": "markdown",
   "metadata": {},
   "source": [
    "## Build the graph\n",
    "\n",
    "Here, we'll build the graph. First up, defining the hyperparameters.\n",
    "\n",
    "* `lstm_size`: Number of units in the hidden layers in the LSTM cells. Usually larger is better performance wise. Common values are 128, 256, 512, etc.\n",
    "* `lstm_layers`: Number of LSTM layers in the network. I'd start with 1, then add more if I'm underfitting.\n",
    "* `batch_size`: The number of reviews to feed the network in one training pass. Typically this should be set as high as you can go without running out of memory.\n",
    "* `learning_rate`: Learning rate"
   ]
  },
  {
   "cell_type": "code",
   "execution_count": 16,
   "metadata": {},
   "outputs": [],
   "source": [
    "lstm_size = 256\n",
    "lstm_layers = 1\n",
    "batch_size = 500\n",
    "learning_rate = 0.0005"
   ]
  },
  {
   "cell_type": "markdown",
   "metadata": {},
   "source": [
    "For the network itself, we'll be passing in our 200 element long review vectors. Each batch will be `batch_size` vectors. We'll also be using dropout on the LSTM layer, so we'll make a placeholder for the keep probability."
   ]
  },
  {
   "cell_type": "markdown",
   "metadata": {},
   "source": [
    "> **Exercise:** Create the `inputs_`, `labels_`, and drop out `keep_prob` placeholders using `tf.placeholder`. `labels_` needs to be two-dimensional to work with some functions later.  Since `keep_prob` is a scalar (a 0-dimensional tensor), you shouldn't provide a size to `tf.placeholder`."
   ]
  },
  {
   "cell_type": "code",
   "execution_count": 17,
   "metadata": {},
   "outputs": [],
   "source": [
    "n_words = len(vocab_to_int) + 1 # Adding 1 because we use 0's for padding, dictionary started at 1\n",
    "\n",
    "# Create the graph object\n",
    "graph = tf.Graph()\n",
    "# Add nodes to the graph\n",
    "with graph.as_default():\n",
    "    inputs_ = tf.placeholder(tf.int32, [None, None], name='inputs')\n",
    "    labels_ = tf.placeholder(tf.int32, [None, None], name='labels')\n",
    "    keep_prob = tf.placeholder(tf.float32, name='keep_prob')"
   ]
  },
  {
   "cell_type": "markdown",
   "metadata": {},
   "source": [
    "### Embedding\n",
    "\n",
    "Now we'll add an embedding layer. We need to do this because there are 74000 words in our vocabulary. It is massively inefficient to one-hot encode our classes here. You should remember dealing with this problem from the word2vec lesson. Instead of one-hot encoding, we can have an embedding layer and use that layer as a lookup table. You could train an embedding layer using word2vec, then load it here. But, it's fine to just make a new layer and let the network learn the weights.\n",
    "\n",
    "> **Exercise:** Create the embedding lookup matrix as a `tf.Variable`. Use that embedding matrix to get the embedded vectors to pass to the LSTM cell with [`tf.nn.embedding_lookup`](https://www.tensorflow.org/api_docs/python/tf/nn/embedding_lookup). This function takes the embedding matrix and an input tensor, such as the review vectors. Then, it'll return another tensor with the embedded vectors. So, if the embedding layer has 200 units, the function will return a tensor with size [batch_size, 200].\n",
    "\n"
   ]
  },
  {
   "cell_type": "code",
   "execution_count": 18,
   "metadata": {},
   "outputs": [],
   "source": [
    "# Size of the embedding vectors (number of units in the embedding layer)\n",
    "embed_size = 300\n",
    "\n",
    "with graph.as_default():\n",
    "    embedding = tf.Variable(tf.random_uniform((n_words, embed_size), -1, 1))\n",
    "    embed = tf.nn.embedding_lookup(embedding, inputs_)"
   ]
  },
  {
   "cell_type": "markdown",
   "metadata": {},
   "source": [
    "### LSTM cell\n",
    "\n",
    "<img src=\"assets/network_diagram.png\" width=400px>\n",
    "\n",
    "Next, we'll create our LSTM cells to use in the recurrent network ([TensorFlow documentation](https://www.tensorflow.org/api_docs/python/tf/contrib/rnn)). Here we are just defining what the cells look like. This isn't actually building the graph, just defining the type of cells we want in our graph.\n",
    "\n",
    "To create a basic LSTM cell for the graph, you'll want to use `tf.contrib.rnn.BasicLSTMCell`. Looking at the function documentation:\n",
    "\n",
    "```\n",
    "tf.contrib.rnn.BasicLSTMCell(num_units, forget_bias=1.0, input_size=None, state_is_tuple=True, activation=<function tanh at 0x109f1ef28>)\n",
    "```\n",
    "\n",
    "you can see it takes a parameter called `num_units`, the number of units in the cell, called `lstm_size` in this code. So then, you can write something like \n",
    "\n",
    "```\n",
    "lstm = tf.contrib.rnn.BasicLSTMCell(num_units)\n",
    "```\n",
    "\n",
    "to create an LSTM cell with `num_units`. Next, you can add dropout to the cell with `tf.contrib.rnn.DropoutWrapper`. This just wraps the cell in another cell, but with dropout added to the inputs and/or outputs. It's a really convenient way to make your network better with almost no effort! So you'd do something like\n",
    "\n",
    "```\n",
    "drop = tf.contrib.rnn.DropoutWrapper(cell, output_keep_prob=keep_prob)\n",
    "```\n",
    "\n",
    "Most of the time, your network will have better performance with more layers. That's sort of the magic of deep learning, adding more layers allows the network to learn really complex relationships. Again, there is a simple way to create multiple layers of LSTM cells with `tf.contrib.rnn.MultiRNNCell`:\n",
    "\n",
    "```\n",
    "cell = tf.contrib.rnn.MultiRNNCell([drop] * lstm_layers)\n",
    "```\n",
    "\n",
    "Here, `[drop] * lstm_layers` creates a list of cells (`drop`) that is `lstm_layers` long. The `MultiRNNCell` wrapper builds this into multiple layers of RNN cells, one for each cell in the list.\n",
    "\n",
    "So the final cell you're using in the network is actually multiple (or just one) LSTM cells with dropout. But it all works the same from an achitectural viewpoint, just a more complicated graph in the cell.\n",
    "\n",
    "> **Exercise:** Below, use `tf.contrib.rnn.BasicLSTMCell` to create an LSTM cell. Then, add drop out to it with `tf.contrib.rnn.DropoutWrapper`. Finally, create multiple LSTM layers with `tf.contrib.rnn.MultiRNNCell`.\n",
    "\n",
    "Here is [a tutorial on building RNNs](https://www.tensorflow.org/tutorials/recurrent) that will help you out.\n"
   ]
  },
  {
   "cell_type": "code",
   "execution_count": 19,
   "metadata": {},
   "outputs": [],
   "source": [
    "with graph.as_default():\n",
    "    # Your basic LSTM cell\n",
    "    lstm = tf.contrib.rnn.BasicLSTMCell(lstm_size)\n",
    "    \n",
    "    # Add dropout to the cell\n",
    "    drop = tf.contrib.rnn.DropoutWrapper(lstm, output_keep_prob=keep_prob)\n",
    "    \n",
    "    # Stack up multiple LSTM layers, for deep learning\n",
    "    cell = tf.contrib.rnn.MultiRNNCell([drop] * lstm_layers)\n",
    "    \n",
    "    # Getting an initial state of all zeros\n",
    "    initial_state = cell.zero_state(batch_size, tf.float32)"
   ]
  },
  {
   "cell_type": "markdown",
   "metadata": {},
   "source": [
    "### RNN forward pass\n",
    "\n",
    "<img src=\"assets/network_diagram.png\" width=400px>\n",
    "\n",
    "Now we need to actually run the data through the RNN nodes. You can use [`tf.nn.dynamic_rnn`](https://www.tensorflow.org/api_docs/python/tf/nn/dynamic_rnn) to do this. You'd pass in the RNN cell you created (our multiple layered LSTM `cell` for instance), and the inputs to the network.\n",
    "\n",
    "```\n",
    "outputs, final_state = tf.nn.dynamic_rnn(cell, inputs, initial_state=initial_state)\n",
    "```\n",
    "\n",
    "Above I created an initial state, `initial_state`, to pass to the RNN. This is the cell state that is passed between the hidden layers in successive time steps. `tf.nn.dynamic_rnn` takes care of most of the work for us. We pass in our cell and the input to the cell, then it does the unrolling and everything else for us. It returns outputs for each time step and the final_state of the hidden layer.\n",
    "\n",
    "> **Exercise:** Use `tf.nn.dynamic_rnn` to add the forward pass through the RNN. Remember that we're actually passing in vectors from the embedding layer, `embed`.\n",
    "\n"
   ]
  },
  {
   "cell_type": "code",
   "execution_count": 20,
   "metadata": {},
   "outputs": [],
   "source": [
    "with graph.as_default():\n",
    "    outputs, final_state = tf.nn.dynamic_rnn(cell=cell,\n",
    "                                             inputs=embed,\n",
    "                                             sequence_length=None,\n",
    "                                             initial_state=initial_state,\n",
    "                                             dtype=None,\n",
    "                                             parallel_iterations=None,\n",
    "                                             swap_memory=False,\n",
    "                                             time_major=False,\n",
    "                                             scope=None\n",
    ")"
   ]
  },
  {
   "cell_type": "markdown",
   "metadata": {},
   "source": [
    "### Output\n",
    "\n",
    "We only care about the final output, we'll be using that as our sentiment prediction. So we need to grab the last output with `outputs[:, -1]`, the calculate the cost from that and `labels_`."
   ]
  },
  {
   "cell_type": "code",
   "execution_count": 21,
   "metadata": {},
   "outputs": [],
   "source": [
    "with graph.as_default():\n",
    "    predictions = tf.contrib.layers.fully_connected(outputs[:, -1], 1, activation_fn=tf.sigmoid)\n",
    "    cost = tf.losses.mean_squared_error(labels_, predictions)\n",
    "    \n",
    "    optimizer = tf.train.AdamOptimizer(learning_rate).minimize(cost)"
   ]
  },
  {
   "cell_type": "markdown",
   "metadata": {},
   "source": [
    "### Validation accuracy\n",
    "\n",
    "Here we can add a few nodes to calculate the accuracy which we'll use in the validation pass."
   ]
  },
  {
   "cell_type": "code",
   "execution_count": 22,
   "metadata": {},
   "outputs": [],
   "source": [
    "with graph.as_default():\n",
    "    correct_pred = tf.equal(tf.cast(tf.round(predictions), tf.int32), labels_)\n",
    "    accuracy = tf.reduce_mean(tf.cast(correct_pred, tf.float32))"
   ]
  },
  {
   "cell_type": "markdown",
   "metadata": {},
   "source": [
    "### Batching\n",
    "\n",
    "This is a simple function for returning batches from our data. First it removes data such that we only have full batches. Then it iterates through the `x` and `y` arrays and returns slices out of those arrays with size `[batch_size]`."
   ]
  },
  {
   "cell_type": "code",
   "execution_count": 23,
   "metadata": {},
   "outputs": [],
   "source": [
    "def get_batches(x, y, batch_size=100):\n",
    "    \n",
    "    n_batches = len(x)//batch_size\n",
    "    x, y = x[:n_batches*batch_size], y[:n_batches*batch_size]\n",
    "    for ii in range(0, len(x), batch_size):\n",
    "        yield x[ii:ii+batch_size], y[ii:ii+batch_size]"
   ]
  },
  {
   "cell_type": "markdown",
   "metadata": {},
   "source": [
    "## Training\n",
    "\n",
    "Below is the typical training code. If you want to do this yourself, feel free to delete all this code and implement it yourself. Before you run this, make sure the `checkpoints` directory exists."
   ]
  },
  {
   "cell_type": "code",
   "execution_count": 24,
   "metadata": {},
   "outputs": [
    {
     "name": "stdout",
     "output_type": "stream",
     "text": [
      "Epoch: 0/10 Iteration: 5 Train loss: 0.244\n",
      "Epoch: 0/10 Iteration: 10 Train loss: 0.245\n",
      "Epoch: 0/10 Iteration: 15 Train loss: 0.236\n",
      "Epoch: 0/10 Iteration: 20 Train loss: 0.235\n",
      "Epoch: 0/10 Iteration: 25 Train loss: 0.227\n",
      "Val acc: 0.652\n",
      "Epoch: 0/10 Iteration: 30 Train loss: 0.212\n",
      "Epoch: 0/10 Iteration: 35 Train loss: 0.225\n",
      "Epoch: 0/10 Iteration: 40 Train loss: 0.194\n",
      "Epoch: 1/10 Iteration: 45 Train loss: 0.187\n",
      "Epoch: 1/10 Iteration: 50 Train loss: 0.169\n",
      "Val acc: 0.745\n",
      "Epoch: 1/10 Iteration: 55 Train loss: 0.179\n",
      "Epoch: 1/10 Iteration: 60 Train loss: 0.166\n",
      "Epoch: 1/10 Iteration: 65 Train loss: 0.173\n",
      "Epoch: 1/10 Iteration: 70 Train loss: 0.170\n",
      "Epoch: 1/10 Iteration: 75 Train loss: 0.167\n",
      "Val acc: 0.736\n",
      "Epoch: 1/10 Iteration: 80 Train loss: 0.151\n",
      "Epoch: 2/10 Iteration: 85 Train loss: 0.143\n",
      "Epoch: 2/10 Iteration: 90 Train loss: 0.137\n",
      "Epoch: 2/10 Iteration: 95 Train loss: 0.132\n",
      "Epoch: 2/10 Iteration: 100 Train loss: 0.126\n",
      "Val acc: 0.790\n",
      "Epoch: 2/10 Iteration: 105 Train loss: 0.125\n",
      "Epoch: 2/10 Iteration: 110 Train loss: 0.154\n",
      "Epoch: 2/10 Iteration: 115 Train loss: 0.138\n",
      "Epoch: 2/10 Iteration: 120 Train loss: 0.145\n",
      "Epoch: 3/10 Iteration: 125 Train loss: 0.178\n",
      "Val acc: 0.786\n",
      "Epoch: 3/10 Iteration: 130 Train loss: 0.135\n",
      "Epoch: 3/10 Iteration: 135 Train loss: 0.107\n",
      "Epoch: 3/10 Iteration: 140 Train loss: 0.107\n",
      "Epoch: 3/10 Iteration: 145 Train loss: 0.102\n",
      "Epoch: 3/10 Iteration: 150 Train loss: 0.113\n",
      "Val acc: 0.794\n",
      "Epoch: 3/10 Iteration: 155 Train loss: 0.108\n",
      "Epoch: 3/10 Iteration: 160 Train loss: 0.108\n",
      "Epoch: 4/10 Iteration: 165 Train loss: 0.095\n",
      "Epoch: 4/10 Iteration: 170 Train loss: 0.101\n",
      "Epoch: 4/10 Iteration: 175 Train loss: 0.087\n",
      "Val acc: 0.806\n",
      "Epoch: 4/10 Iteration: 180 Train loss: 0.070\n",
      "Epoch: 4/10 Iteration: 185 Train loss: 0.082\n",
      "Epoch: 4/10 Iteration: 190 Train loss: 0.108\n",
      "Epoch: 4/10 Iteration: 195 Train loss: 0.098\n",
      "Epoch: 4/10 Iteration: 200 Train loss: 0.093\n",
      "Val acc: 0.815\n",
      "Epoch: 5/10 Iteration: 205 Train loss: 0.080\n",
      "Epoch: 5/10 Iteration: 210 Train loss: 0.088\n",
      "Epoch: 5/10 Iteration: 215 Train loss: 0.076\n",
      "Epoch: 5/10 Iteration: 220 Train loss: 0.056\n",
      "Epoch: 5/10 Iteration: 225 Train loss: 0.066\n",
      "Val acc: 0.812\n",
      "Epoch: 5/10 Iteration: 230 Train loss: 0.072\n",
      "Epoch: 5/10 Iteration: 235 Train loss: 0.087\n",
      "Epoch: 5/10 Iteration: 240 Train loss: 0.116\n",
      "Epoch: 6/10 Iteration: 245 Train loss: 0.069\n",
      "Epoch: 6/10 Iteration: 250 Train loss: 0.080\n",
      "Val acc: 0.810\n",
      "Epoch: 6/10 Iteration: 255 Train loss: 0.062\n",
      "Epoch: 6/10 Iteration: 260 Train loss: 0.078\n",
      "Epoch: 6/10 Iteration: 265 Train loss: 0.072\n",
      "Epoch: 6/10 Iteration: 270 Train loss: 0.066\n",
      "Epoch: 6/10 Iteration: 275 Train loss: 0.066\n",
      "Val acc: 0.808\n",
      "Epoch: 6/10 Iteration: 280 Train loss: 0.083\n",
      "Epoch: 7/10 Iteration: 285 Train loss: 0.057\n",
      "Epoch: 7/10 Iteration: 290 Train loss: 0.058\n",
      "Epoch: 7/10 Iteration: 295 Train loss: 0.047\n",
      "Epoch: 7/10 Iteration: 300 Train loss: 0.037\n",
      "Val acc: 0.824\n",
      "Epoch: 7/10 Iteration: 305 Train loss: 0.045\n",
      "Epoch: 7/10 Iteration: 310 Train loss: 0.053\n",
      "Epoch: 7/10 Iteration: 315 Train loss: 0.075\n",
      "Epoch: 7/10 Iteration: 320 Train loss: 0.070\n",
      "Epoch: 8/10 Iteration: 325 Train loss: 0.065\n",
      "Val acc: 0.810\n",
      "Epoch: 8/10 Iteration: 330 Train loss: 0.073\n",
      "Epoch: 8/10 Iteration: 335 Train loss: 0.048\n",
      "Epoch: 8/10 Iteration: 340 Train loss: 0.062\n",
      "Epoch: 8/10 Iteration: 345 Train loss: 0.051\n",
      "Epoch: 8/10 Iteration: 350 Train loss: 0.048\n",
      "Val acc: 0.813\n",
      "Epoch: 8/10 Iteration: 355 Train loss: 0.060\n",
      "Epoch: 8/10 Iteration: 360 Train loss: 0.060\n",
      "Epoch: 9/10 Iteration: 365 Train loss: 0.051\n",
      "Epoch: 9/10 Iteration: 370 Train loss: 0.042\n",
      "Epoch: 9/10 Iteration: 375 Train loss: 0.041\n",
      "Val acc: 0.796\n",
      "Epoch: 9/10 Iteration: 380 Train loss: 0.046\n",
      "Epoch: 9/10 Iteration: 385 Train loss: 0.036\n",
      "Epoch: 9/10 Iteration: 390 Train loss: 0.050\n",
      "Epoch: 9/10 Iteration: 395 Train loss: 0.054\n",
      "Epoch: 9/10 Iteration: 400 Train loss: 0.102\n",
      "Val acc: 0.831\n"
     ]
    }
   ],
   "source": [
    "epochs = 10\n",
    "\n",
    "with graph.as_default():\n",
    "    saver = tf.train.Saver()\n",
    "\n",
    "with tf.Session(graph=graph) as sess:\n",
    "    sess.run(tf.global_variables_initializer())\n",
    "    iteration = 1\n",
    "    for e in range(epochs):\n",
    "        state = sess.run(initial_state)\n",
    "        \n",
    "        for ii, (x, y) in enumerate(get_batches(train_x, train_y, batch_size), 1):\n",
    "            feed = {inputs_: x,\n",
    "                    labels_: y[:, None],\n",
    "                    keep_prob: 0.5,\n",
    "                    initial_state: state}\n",
    "            loss, state, _ = sess.run([cost, final_state, optimizer], feed_dict=feed)\n",
    "            \n",
    "            if iteration%5==0:\n",
    "                print(\"Epoch: {}/{}\".format(e, epochs),\n",
    "                      \"Iteration: {}\".format(iteration),\n",
    "                      \"Train loss: {:.3f}\".format(loss))\n",
    "\n",
    "            if iteration%25==0:\n",
    "                val_acc = []\n",
    "                val_state = sess.run(cell.zero_state(batch_size, tf.float32))\n",
    "                for x, y in get_batches(val_x, val_y, batch_size):\n",
    "                    feed = {inputs_: x,\n",
    "                            labels_: y[:, None],\n",
    "                            keep_prob: 1,\n",
    "                            initial_state: val_state}\n",
    "                    batch_acc, val_state = sess.run([accuracy, final_state], feed_dict=feed)\n",
    "                    val_acc.append(batch_acc)\n",
    "                print(\"Val acc: {:.3f}\".format(np.mean(val_acc)))\n",
    "            iteration +=1\n",
    "    saver.save(sess, \"checkpoints/sentiment.ckpt\")"
   ]
  },
  {
   "cell_type": "markdown",
   "metadata": {},
   "source": [
    "## Testing"
   ]
  },
  {
   "cell_type": "code",
   "execution_count": 25,
   "metadata": {},
   "outputs": [
    {
     "name": "stdout",
     "output_type": "stream",
     "text": [
      "INFO:tensorflow:Restoring parameters from checkpoints/sentiment.ckpt\n",
      "Test accuracy: 0.829\n"
     ]
    }
   ],
   "source": [
    "test_acc = []\n",
    "with tf.Session(graph=graph) as sess:\n",
    "    saver.restore(sess, tf.train.latest_checkpoint('checkpoints'))\n",
    "    test_state = sess.run(cell.zero_state(batch_size, tf.float32))\n",
    "    for ii, (x, y) in enumerate(get_batches(test_x, test_y, batch_size), 1):\n",
    "        feed = {inputs_: x,\n",
    "                labels_: y[:, None],\n",
    "                keep_prob: 1,\n",
    "                initial_state: test_state}\n",
    "        batch_acc, test_state = sess.run([accuracy, final_state], feed_dict=feed)\n",
    "        test_acc.append(batch_acc)\n",
    "    print(\"Test accuracy: {:.3f}\".format(np.mean(test_acc)))"
   ]
  },
  {
   "cell_type": "code",
   "execution_count": null,
   "metadata": {},
   "outputs": [],
   "source": []
  },
  {
   "cell_type": "code",
   "execution_count": null,
   "metadata": {},
   "outputs": [],
   "source": []
  }
 ],
 "metadata": {
  "kernelspec": {
   "display_name": "Python 3",
   "language": "python",
   "name": "python3"
  },
  "language_info": {
   "codemirror_mode": {
    "name": "ipython",
    "version": 3
   },
   "file_extension": ".py",
   "mimetype": "text/x-python",
   "name": "python",
   "nbconvert_exporter": "python",
   "pygments_lexer": "ipython3",
   "version": "3.5.2"
  }
 },
 "nbformat": 4,
 "nbformat_minor": 2
}
